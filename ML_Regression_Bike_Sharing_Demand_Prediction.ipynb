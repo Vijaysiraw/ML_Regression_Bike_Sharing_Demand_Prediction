{
  "nbformat": 4,
  "nbformat_minor": 0,
  "metadata": {
    "colab": {
      "provenance": [],
      "collapsed_sections": [
        "vncDsAP0Gaoa",
        "FJNUwmbgGyua",
        "w6K7xa23Elo4",
        "yQaldy8SH6Dl",
        "mDgbUHAGgjLW",
        "O_i_v8NEhb9l",
        "HhfV-JJviCcP",
        "Y3lxredqlCYt",
        "3RnN4peoiCZX",
        "x71ZqKXriCWQ",
        "7hBIi_osiCS2",
        "JlHwYmJAmNHm",
        "35m5QtbWiB9F",
        "PoPl-ycgm1ru",
        "H0kj-8xxnORC",
        "nA9Y7ga8ng1Z",
        "PBTbrJXOngz2",
        "u3PMJOP6ngxN",
        "dauF4eBmngu3",
        "bKJF3rekwFvQ",
        "MSa1f5Uengrz",
        "GF8Ens_Soomf",
        "0wOQAZs5pc--",
        "K5QZ13OEpz2H",
        "lQ7QKXXCp7Bj",
        "448CDAPjqfQr",
        "KSlN3yHqYklG",
        "t6dVpIINYklI",
        "ijmpgYnKYklI",
        "-JiQyfWJYklI",
        "EM7whBJCYoAo",
        "fge-S5ZAYoAp",
        "85gYPyotYoAp",
        "RoGjAbkUYoAp",
        "4Of9eVA-YrdM",
        "iky9q4vBYrdO",
        "F6T5p64dYrdO",
        "y-Ehk30pYrdP",
        "bamQiAODYuh1",
        "QHF8YVU7Yuh3",
        "GwzvFGzlYuh3",
        "qYpmQ266Yuh3",
        "OH-pJp9IphqM",
        "bbFf2-_FphqN",
        "_ouA3fa0phqN",
        "Seke61FWphqN",
        "PIIx-8_IphqN",
        "t27r6nlMphqO",
        "r2jJGEOYphqO",
        "b0JNsNcRphqO",
        "BZR9WyysphqO",
        "jj7wYXLtphqO",
        "eZrbJ2SmphqO",
        "rFu4xreNphqO",
        "YJ55k-q6phqO",
        "gCFgpxoyphqP",
        "OVtJsKN_phqQ",
        "lssrdh5qphqQ",
        "U2RJ9gkRphqQ",
        "1M8mcRywphqQ",
        "tgIPom80phqQ",
        "JMzcOPDDphqR",
        "x-EpHcCOp1ci",
        "X_VqEhTip1ck",
        "8zGJKyg5p1ck",
        "PVzmfK_Ep1ck",
        "n3dbpmDWp1ck",
        "ylSl6qgtp1ck",
        "ZWILFDl5p1ck",
        "M7G43BXep1ck",
        "Ag9LCva-p1cl",
        "E6MkPsBcp1cl",
        "2cELzS2fp1cl",
        "3MPXvC8up1cl",
        "NC_X3p0fY2L0",
        "UV0SzAkaZNRQ",
        "YPEH6qLeZNRQ",
        "q29F0dvdveiT",
        "EXh0U9oCveiU",
        "22aHeOlLveiV",
        "g-ATYxFrGrvw",
        "Yfr_Vlr8HBkt",
        "8yEUt7NnHlrM",
        "tEA2Xm5dHt1r",
        "I79__PHVH19G",
        "Ou-I18pAyIpj",
        "fF3858GYyt-u",
        "4_0_7-oCpUZd",
        "hwyV_J3ipUZe",
        "3yB-zSqbpUZe",
        "dEUvejAfpUZe",
        "Fd15vwWVpUZf",
        "bn_IUdTipZyH",
        "49K5P_iCpZyH",
        "Nff-vKELpZyI",
        "kLW572S8pZyI",
        "dWbDXHzopZyI",
        "yLjJCtPM0KBk",
        "xiyOF9F70UgQ",
        "7wuGOrhz0itI",
        "id1riN9m0vUs",
        "578E2V7j08f6",
        "89xtkJwZ18nB",
        "67NQN5KX2AMe",
        "Iwf50b-R2tYG",
        "GMQiZwjn3iu7",
        "WVIkgGqN3qsr",
        "XkPnILGE3zoT",
        "Hlsf0x5436Go",
        "mT9DMSJo4nBL",
        "c49ITxTc407N",
        "OeJFEK0N496M",
        "9ExmJH0g5HBk",
        "cJNqERVU536h",
        "k5UmGsbsOxih",
        "T0VqWOYE6DLQ",
        "qBMux9mC6MCf",
        "-oLEiFgy-5Pf",
        "C74aWNz2AliB",
        "2DejudWSA-a0",
        "pEMng2IbBLp7",
        "rAdphbQ9Bhjc",
        "TNVZ9zx19K6k",
        "nqoHp30x9hH9",
        "rMDnDkt2B6du",
        "yiiVWRdJDDil",
        "1UUpS68QDMuG",
        "kexQrXU-DjzY",
        "T5CmagL3EC8N",
        "BhH2vgX9EjGr",
        "qjKvONjwE8ra",
        "P1XJ9OREExlT",
        "VFOzZv6IFROw",
        "TIqpNgepFxVj",
        "VfCC591jGiD4",
        "OB4l2ZhMeS1U",
        "ArJBuiUVfxKd",
        "4qY1EAkEfxKe",
        "PiV4Ypx8fxKe",
        "TfvqoZmBfxKf",
        "dJ2tPlVmpsJ0",
        "JWYfwnehpsJ1",
        "-jK_YjpMpsJ2",
        "HAih1iBOpsJ2",
        "zVGeBEFhpsJ2",
        "bmKjuQ-FpsJ3",
        "Fze-IPXLpx6K",
        "7AN1z2sKpx6M",
        "9PIHJqyupx6M",
        "_-qAgymDpx6N",
        "Z-hykwinpx6N",
        "h_CCil-SKHpo",
        "cBFFvTBNJzUa",
        "HvGl1hHyA_VK",
        "EyNgTHvd2WFk",
        "KH5McJBi2d8v",
        "iW_Lq9qf2h6X",
        "-Kee-DAl2viO",
        "gCX9965dhzqZ",
        "gIfDvo9L0UH2"
      ],
      "include_colab_link": true
    },
    "kernelspec": {
      "name": "python3",
      "display_name": "Python 3"
    },
    "language_info": {
      "name": "python"
    }
  },
  "cells": [
    {
      "cell_type": "markdown",
      "metadata": {
        "id": "view-in-github",
        "colab_type": "text"
      },
      "source": [
        "<a href=\"https://colab.research.google.com/github/hbansal27/ML_Regression_Bike_Sharing_Demand_Prediction/blob/main/ML_Regression_Bike_Sharing_Demand_Prediction.ipynb\" target=\"_parent\"><img src=\"https://colab.research.google.com/assets/colab-badge.svg\" alt=\"Open In Colab\"/></a>"
      ]
    },
    {
      "cell_type": "markdown",
      "source": [
        "# **Project Name**    - Bike Sharing Demand Prediction\n",
        "\n"
      ],
      "metadata": {
        "id": "vncDsAP0Gaoa"
      }
    },
    {
      "cell_type": "markdown",
      "source": [
        "##### **Project Type**    - Regression\n",
        "##### **Contribution**    - Team\n",
        "##### **Team Member 1 -** Harshit Bansal\n",
        "##### **Team Member 2 -** Vijay Singh\n"
      ],
      "metadata": {
        "id": "beRrZCGUAJYm"
      }
    },
    {
      "cell_type": "markdown",
      "source": [
        "# **Project Summary -**"
      ],
      "metadata": {
        "id": "FJNUwmbgGyua"
      }
    },
    {
      "cell_type": "markdown",
      "source": [
        "![Seoul Bike.jpg](data:image/jpeg;base64,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)\n",
        "\n",
        "\n",
        "\n",
        "\n",
        "\n",
        "\n",
        "\n",
        "\n"
      ],
      "metadata": {
        "id": "F6v_1wHtG2nS"
      }
    },
    {
      "cell_type": "markdown",
      "source": [
        "**Introduction :**\n",
        "\n",
        "SEOUL BIKE, is an un-manned rental system based in the seoul city of the south korea, that can be conveniently used anywhere, anytime by anyone.\n",
        "\n",
        "The system was designed to resolve issues of traffic congestion, air pollution, and high oil prices in Seoul, and to build a healthier society while enhancing the quality of life for Seoul citizens.\n",
        "\n",
        "The number of bicycle users in Seoul increased steadily and the cumulative number of rentals exceeded 90 million as of December 2021\n",
        "\n",
        "Currently Rental bikes are introduced in many urban cities for the enhancement of mobility comfort. It is important to make the rental bike available and accessible to the public at the right time as it lessens the waiting time. Eventually, providing the city with a stable supply of rental bikes becomes a major concern. The crucial part is the prediction of bike count required at each hour for the stable supply of rental bikes.\n",
        "\n",
        "The main objective of this project is to develop a machine learning model that can accurately predict the demand for bike rentals in Seoul, South Korea, based on historical data and various relevant factors such as weather conditions, time of day, and public holidays. In this project we have used regression analysis techniques to model the bike demand data. The model trained on a large dataset of past bike rental information, along with relevant weather and time data\n",
        "\n",
        "\n",
        "\n",
        "**Dataset :**\n",
        "\n",
        "The dataset contains weather information (Temperature, Humidity, Windspeed, Visibility, Dewpoint, Solar radiation, Snowfall, Rainfall), the number of bikes rented per hour and date information.\n",
        "Based on this historical data and various relevant factors we will develop a machine learning model that can accurately predict the demand for bike rentals in Seoul\n",
        "\n",
        "**Seoulbikedata.csv :** contains historical data of previous usage of the bikes and the diffrent weather informations. There are total 14 features in this dataset"
      ],
      "metadata": {
        "id": "k09O5Opbw_LA"
      }
    },
    {
      "cell_type": "markdown",
      "source": [
        "# **GitHub Link -**"
      ],
      "metadata": {
        "id": "w6K7xa23Elo4"
      }
    },
    {
      "cell_type": "markdown",
      "source": [
        "https://github.com/hbansal27/ML_Regression_Bike_Sharing_Demand_Prediction"
      ],
      "metadata": {
        "id": "h1o69JH3Eqqn"
      }
    },
    {
      "cell_type": "markdown",
      "source": [
        "# **Problem Statement**\n"
      ],
      "metadata": {
        "id": "yQaldy8SH6Dl"
      }
    },
    {
      "cell_type": "markdown",
      "source": [
        "**Write Problem Statement Here.**"
      ],
      "metadata": {
        "id": "DpeJGUA3kjGy"
      }
    },
    {
      "cell_type": "markdown",
      "source": [
        "# ***Let's Begin !***"
      ],
      "metadata": {
        "id": "O_i_v8NEhb9l"
      }
    },
    {
      "cell_type": "markdown",
      "source": [
        "## ***1. Know Your Data***"
      ],
      "metadata": {
        "id": "HhfV-JJviCcP"
      }
    },
    {
      "cell_type": "markdown",
      "source": [
        "### Import Libraries\n",
        "\n"
      ],
      "metadata": {
        "id": "Y3lxredqlCYt"
      }
    },
    {
      "cell_type": "code",
      "source": [
        "# Import Libraries\n",
        "# Import Libraries\n",
        "#There are lots of libraries present in Python; we are importing some of them, which will be used further in this project.\n",
        "\n",
        "# Import Libraries\n",
        "import numpy as np\n",
        "import pandas as pd\n",
        "\n",
        "# Import Visualization Libraries\n",
        "import seaborn as sns\n",
        "import matplotlib.pyplot as plt\n",
        "%matplotlib inline\n",
        "\n",
        "# import warnings\n",
        "import warnings\n",
        "warnings.filterwarnings(\"ignore\")\n",
        "\n",
        "#Import other\n",
        "from datetime import datetime\n",
        "from importlib import reload"
      ],
      "metadata": {
        "id": "M8Vqi-pPk-HR"
      },
      "execution_count": 1,
      "outputs": []
    },
    {
      "cell_type": "markdown",
      "source": [
        "### Dataset Loading"
      ],
      "metadata": {
        "id": "3RnN4peoiCZX"
      }
    },
    {
      "cell_type": "code",
      "source": [
        "# Load Dataset\n",
        "# Load Dataset from github repository\n",
        "# Below is the link of the github repository where we have uploaded both of our datasets\n",
        "sb_data_url = 'https://raw.githubusercontent.com/hbansal27/ML_Regression_Bike_Sharing_Demand_Prediction/main/SeoulBikeData.csv'\n"
      ],
      "metadata": {
        "id": "4CkvbW_SlZ_R"
      },
      "execution_count": 2,
      "outputs": []
    },
    {
      "cell_type": "code",
      "source": [
        "#Now we are going to read the datasets\n",
        "sb_data = pd.read_csv(sb_data_url, encoding='unicode_escape')"
      ],
      "metadata": {
        "id": "U_AAXR9HKUDv"
      },
      "execution_count": 3,
      "outputs": []
    },
    {
      "cell_type": "markdown",
      "source": [
        "### Dataset First View"
      ],
      "metadata": {
        "id": "x71ZqKXriCWQ"
      }
    },
    {
      "cell_type": "code",
      "source": [
        "# Dataset First Look\n",
        "# Dataset First Look\n",
        "#Here we are going to take a look at the data that how its look like so we are using\n",
        "#head() function which by default gives us the top 5 rows of the data\n",
        "#and tail() function which gives us the bottom 5 rows of the data\n",
        "\n"
      ],
      "metadata": {
        "id": "LWNFOSvLl09H"
      },
      "execution_count": 4,
      "outputs": []
    },
    {
      "cell_type": "code",
      "source": [
        "# View first 5 rows of the dataset\n",
        "sb_data.head()"
      ],
      "metadata": {
        "colab": {
          "base_uri": "https://localhost:8080/",
          "height": 371
        },
        "id": "2cfqZu4AKzNA",
        "outputId": "0dd6b36a-40f1-48f2-fbb6-e091d13d4402"
      },
      "execution_count": 6,
      "outputs": [
        {
          "output_type": "execute_result",
          "data": {
            "text/plain": [
              "         Date  Rented Bike Count  Hour  Temperature(°C)  Humidity(%)  \\\n",
              "0  01/12/2017                254     0             -5.2           37   \n",
              "1  01/12/2017                204     1             -5.5           38   \n",
              "2  01/12/2017                173     2             -6.0           39   \n",
              "3  01/12/2017                107     3             -6.2           40   \n",
              "4  01/12/2017                 78     4             -6.0           36   \n",
              "\n",
              "   Wind speed (m/s)  Visibility (10m)  Dew point temperature(°C)  \\\n",
              "0               2.2              2000                      -17.6   \n",
              "1               0.8              2000                      -17.6   \n",
              "2               1.0              2000                      -17.7   \n",
              "3               0.9              2000                      -17.6   \n",
              "4               2.3              2000                      -18.6   \n",
              "\n",
              "   Solar Radiation (MJ/m2)  Rainfall(mm)  Snowfall (cm) Seasons     Holiday  \\\n",
              "0                      0.0           0.0            0.0  Winter  No Holiday   \n",
              "1                      0.0           0.0            0.0  Winter  No Holiday   \n",
              "2                      0.0           0.0            0.0  Winter  No Holiday   \n",
              "3                      0.0           0.0            0.0  Winter  No Holiday   \n",
              "4                      0.0           0.0            0.0  Winter  No Holiday   \n",
              "\n",
              "  Functioning Day  \n",
              "0             Yes  \n",
              "1             Yes  \n",
              "2             Yes  \n",
              "3             Yes  \n",
              "4             Yes  "
            ],
            "text/html": [
              "\n",
              "\n",
              "  <div id=\"df-5d269e3f-fde9-45da-ad46-cd4f58c41427\">\n",
              "    <div class=\"colab-df-container\">\n",
              "      <div>\n",
              "<style scoped>\n",
              "    .dataframe tbody tr th:only-of-type {\n",
              "        vertical-align: middle;\n",
              "    }\n",
              "\n",
              "    .dataframe tbody tr th {\n",
              "        vertical-align: top;\n",
              "    }\n",
              "\n",
              "    .dataframe thead th {\n",
              "        text-align: right;\n",
              "    }\n",
              "</style>\n",
              "<table border=\"1\" class=\"dataframe\">\n",
              "  <thead>\n",
              "    <tr style=\"text-align: right;\">\n",
              "      <th></th>\n",
              "      <th>Date</th>\n",
              "      <th>Rented Bike Count</th>\n",
              "      <th>Hour</th>\n",
              "      <th>Temperature(°C)</th>\n",
              "      <th>Humidity(%)</th>\n",
              "      <th>Wind speed (m/s)</th>\n",
              "      <th>Visibility (10m)</th>\n",
              "      <th>Dew point temperature(°C)</th>\n",
              "      <th>Solar Radiation (MJ/m2)</th>\n",
              "      <th>Rainfall(mm)</th>\n",
              "      <th>Snowfall (cm)</th>\n",
              "      <th>Seasons</th>\n",
              "      <th>Holiday</th>\n",
              "      <th>Functioning Day</th>\n",
              "    </tr>\n",
              "  </thead>\n",
              "  <tbody>\n",
              "    <tr>\n",
              "      <th>0</th>\n",
              "      <td>01/12/2017</td>\n",
              "      <td>254</td>\n",
              "      <td>0</td>\n",
              "      <td>-5.2</td>\n",
              "      <td>37</td>\n",
              "      <td>2.2</td>\n",
              "      <td>2000</td>\n",
              "      <td>-17.6</td>\n",
              "      <td>0.0</td>\n",
              "      <td>0.0</td>\n",
              "      <td>0.0</td>\n",
              "      <td>Winter</td>\n",
              "      <td>No Holiday</td>\n",
              "      <td>Yes</td>\n",
              "    </tr>\n",
              "    <tr>\n",
              "      <th>1</th>\n",
              "      <td>01/12/2017</td>\n",
              "      <td>204</td>\n",
              "      <td>1</td>\n",
              "      <td>-5.5</td>\n",
              "      <td>38</td>\n",
              "      <td>0.8</td>\n",
              "      <td>2000</td>\n",
              "      <td>-17.6</td>\n",
              "      <td>0.0</td>\n",
              "      <td>0.0</td>\n",
              "      <td>0.0</td>\n",
              "      <td>Winter</td>\n",
              "      <td>No Holiday</td>\n",
              "      <td>Yes</td>\n",
              "    </tr>\n",
              "    <tr>\n",
              "      <th>2</th>\n",
              "      <td>01/12/2017</td>\n",
              "      <td>173</td>\n",
              "      <td>2</td>\n",
              "      <td>-6.0</td>\n",
              "      <td>39</td>\n",
              "      <td>1.0</td>\n",
              "      <td>2000</td>\n",
              "      <td>-17.7</td>\n",
              "      <td>0.0</td>\n",
              "      <td>0.0</td>\n",
              "      <td>0.0</td>\n",
              "      <td>Winter</td>\n",
              "      <td>No Holiday</td>\n",
              "      <td>Yes</td>\n",
              "    </tr>\n",
              "    <tr>\n",
              "      <th>3</th>\n",
              "      <td>01/12/2017</td>\n",
              "      <td>107</td>\n",
              "      <td>3</td>\n",
              "      <td>-6.2</td>\n",
              "      <td>40</td>\n",
              "      <td>0.9</td>\n",
              "      <td>2000</td>\n",
              "      <td>-17.6</td>\n",
              "      <td>0.0</td>\n",
              "      <td>0.0</td>\n",
              "      <td>0.0</td>\n",
              "      <td>Winter</td>\n",
              "      <td>No Holiday</td>\n",
              "      <td>Yes</td>\n",
              "    </tr>\n",
              "    <tr>\n",
              "      <th>4</th>\n",
              "      <td>01/12/2017</td>\n",
              "      <td>78</td>\n",
              "      <td>4</td>\n",
              "      <td>-6.0</td>\n",
              "      <td>36</td>\n",
              "      <td>2.3</td>\n",
              "      <td>2000</td>\n",
              "      <td>-18.6</td>\n",
              "      <td>0.0</td>\n",
              "      <td>0.0</td>\n",
              "      <td>0.0</td>\n",
              "      <td>Winter</td>\n",
              "      <td>No Holiday</td>\n",
              "      <td>Yes</td>\n",
              "    </tr>\n",
              "  </tbody>\n",
              "</table>\n",
              "</div>\n",
              "      <button class=\"colab-df-convert\" onclick=\"convertToInteractive('df-5d269e3f-fde9-45da-ad46-cd4f58c41427')\"\n",
              "              title=\"Convert this dataframe to an interactive table.\"\n",
              "              style=\"display:none;\">\n",
              "\n",
              "  <svg xmlns=\"http://www.w3.org/2000/svg\" height=\"24px\"viewBox=\"0 0 24 24\"\n",
              "       width=\"24px\">\n",
              "    <path d=\"M0 0h24v24H0V0z\" fill=\"none\"/>\n",
              "    <path d=\"M18.56 5.44l.94 2.06.94-2.06 2.06-.94-2.06-.94-.94-2.06-.94 2.06-2.06.94zm-11 1L8.5 8.5l.94-2.06 2.06-.94-2.06-.94L8.5 2.5l-.94 2.06-2.06.94zm10 10l.94 2.06.94-2.06 2.06-.94-2.06-.94-.94-2.06-.94 2.06-2.06.94z\"/><path d=\"M17.41 7.96l-1.37-1.37c-.4-.4-.92-.59-1.43-.59-.52 0-1.04.2-1.43.59L10.3 9.45l-7.72 7.72c-.78.78-.78 2.05 0 2.83L4 21.41c.39.39.9.59 1.41.59.51 0 1.02-.2 1.41-.59l7.78-7.78 2.81-2.81c.8-.78.8-2.07 0-2.86zM5.41 20L4 18.59l7.72-7.72 1.47 1.35L5.41 20z\"/>\n",
              "  </svg>\n",
              "      </button>\n",
              "\n",
              "\n",
              "\n",
              "    <div id=\"df-0d22d25b-98f6-4c01-8c87-b756a30bcec1\">\n",
              "      <button class=\"colab-df-quickchart\" onclick=\"quickchart('df-0d22d25b-98f6-4c01-8c87-b756a30bcec1')\"\n",
              "              title=\"Suggest charts.\"\n",
              "              style=\"display:none;\">\n",
              "\n",
              "<svg xmlns=\"http://www.w3.org/2000/svg\" height=\"24px\"viewBox=\"0 0 24 24\"\n",
              "     width=\"24px\">\n",
              "    <g>\n",
              "        <path d=\"M19 3H5c-1.1 0-2 .9-2 2v14c0 1.1.9 2 2 2h14c1.1 0 2-.9 2-2V5c0-1.1-.9-2-2-2zM9 17H7v-7h2v7zm4 0h-2V7h2v10zm4 0h-2v-4h2v4z\"/>\n",
              "    </g>\n",
              "</svg>\n",
              "      </button>\n",
              "    </div>\n",
              "\n",
              "<style>\n",
              "  .colab-df-quickchart {\n",
              "    background-color: #E8F0FE;\n",
              "    border: none;\n",
              "    border-radius: 50%;\n",
              "    cursor: pointer;\n",
              "    display: none;\n",
              "    fill: #1967D2;\n",
              "    height: 32px;\n",
              "    padding: 0 0 0 0;\n",
              "    width: 32px;\n",
              "  }\n",
              "\n",
              "  .colab-df-quickchart:hover {\n",
              "    background-color: #E2EBFA;\n",
              "    box-shadow: 0px 1px 2px rgba(60, 64, 67, 0.3), 0px 1px 3px 1px rgba(60, 64, 67, 0.15);\n",
              "    fill: #174EA6;\n",
              "  }\n",
              "\n",
              "  [theme=dark] .colab-df-quickchart {\n",
              "    background-color: #3B4455;\n",
              "    fill: #D2E3FC;\n",
              "  }\n",
              "\n",
              "  [theme=dark] .colab-df-quickchart:hover {\n",
              "    background-color: #434B5C;\n",
              "    box-shadow: 0px 1px 3px 1px rgba(0, 0, 0, 0.15);\n",
              "    filter: drop-shadow(0px 1px 2px rgba(0, 0, 0, 0.3));\n",
              "    fill: #FFFFFF;\n",
              "  }\n",
              "</style>\n",
              "\n",
              "    <script>\n",
              "      async function quickchart(key) {\n",
              "        const containerElement = document.querySelector('#' + key);\n",
              "        const charts = await google.colab.kernel.invokeFunction(\n",
              "            'suggestCharts', [key], {});\n",
              "      }\n",
              "    </script>\n",
              "\n",
              "      <script>\n",
              "\n",
              "function displayQuickchartButton(domScope) {\n",
              "  let quickchartButtonEl =\n",
              "    domScope.querySelector('#df-0d22d25b-98f6-4c01-8c87-b756a30bcec1 button.colab-df-quickchart');\n",
              "  quickchartButtonEl.style.display =\n",
              "    google.colab.kernel.accessAllowed ? 'block' : 'none';\n",
              "}\n",
              "\n",
              "        displayQuickchartButton(document);\n",
              "      </script>\n",
              "      <style>\n",
              "    .colab-df-container {\n",
              "      display:flex;\n",
              "      flex-wrap:wrap;\n",
              "      gap: 12px;\n",
              "    }\n",
              "\n",
              "    .colab-df-convert {\n",
              "      background-color: #E8F0FE;\n",
              "      border: none;\n",
              "      border-radius: 50%;\n",
              "      cursor: pointer;\n",
              "      display: none;\n",
              "      fill: #1967D2;\n",
              "      height: 32px;\n",
              "      padding: 0 0 0 0;\n",
              "      width: 32px;\n",
              "    }\n",
              "\n",
              "    .colab-df-convert:hover {\n",
              "      background-color: #E2EBFA;\n",
              "      box-shadow: 0px 1px 2px rgba(60, 64, 67, 0.3), 0px 1px 3px 1px rgba(60, 64, 67, 0.15);\n",
              "      fill: #174EA6;\n",
              "    }\n",
              "\n",
              "    [theme=dark] .colab-df-convert {\n",
              "      background-color: #3B4455;\n",
              "      fill: #D2E3FC;\n",
              "    }\n",
              "\n",
              "    [theme=dark] .colab-df-convert:hover {\n",
              "      background-color: #434B5C;\n",
              "      box-shadow: 0px 1px 3px 1px rgba(0, 0, 0, 0.15);\n",
              "      filter: drop-shadow(0px 1px 2px rgba(0, 0, 0, 0.3));\n",
              "      fill: #FFFFFF;\n",
              "    }\n",
              "  </style>\n",
              "\n",
              "      <script>\n",
              "        const buttonEl =\n",
              "          document.querySelector('#df-5d269e3f-fde9-45da-ad46-cd4f58c41427 button.colab-df-convert');\n",
              "        buttonEl.style.display =\n",
              "          google.colab.kernel.accessAllowed ? 'block' : 'none';\n",
              "\n",
              "        async function convertToInteractive(key) {\n",
              "          const element = document.querySelector('#df-5d269e3f-fde9-45da-ad46-cd4f58c41427');\n",
              "          const dataTable =\n",
              "            await google.colab.kernel.invokeFunction('convertToInteractive',\n",
              "                                                     [key], {});\n",
              "          if (!dataTable) return;\n",
              "\n",
              "          const docLinkHtml = 'Like what you see? Visit the ' +\n",
              "            '<a target=\"_blank\" href=https://colab.research.google.com/notebooks/data_table.ipynb>data table notebook</a>'\n",
              "            + ' to learn more about interactive tables.';\n",
              "          element.innerHTML = '';\n",
              "          dataTable['output_type'] = 'display_data';\n",
              "          await google.colab.output.renderOutput(dataTable, element);\n",
              "          const docLink = document.createElement('div');\n",
              "          docLink.innerHTML = docLinkHtml;\n",
              "          element.appendChild(docLink);\n",
              "        }\n",
              "      </script>\n",
              "    </div>\n",
              "  </div>\n"
            ]
          },
          "metadata": {},
          "execution_count": 6
        }
      ]
    },
    {
      "cell_type": "code",
      "source": [
        "# View last 5 rows of the dataset\n",
        "sb_data.tail()"
      ],
      "metadata": {
        "colab": {
          "base_uri": "https://localhost:8080/",
          "height": 371
        },
        "id": "4_pYXoxtLCW-",
        "outputId": "8eee7f11-1adb-4e7a-88e9-c1a4ad2f0f49"
      },
      "execution_count": 7,
      "outputs": [
        {
          "output_type": "execute_result",
          "data": {
            "text/plain": [
              "            Date  Rented Bike Count  Hour  Temperature(°C)  Humidity(%)  \\\n",
              "8755  30/11/2018               1003    19              4.2           34   \n",
              "8756  30/11/2018                764    20              3.4           37   \n",
              "8757  30/11/2018                694    21              2.6           39   \n",
              "8758  30/11/2018                712    22              2.1           41   \n",
              "8759  30/11/2018                584    23              1.9           43   \n",
              "\n",
              "      Wind speed (m/s)  Visibility (10m)  Dew point temperature(°C)  \\\n",
              "8755               2.6              1894                      -10.3   \n",
              "8756               2.3              2000                       -9.9   \n",
              "8757               0.3              1968                       -9.9   \n",
              "8758               1.0              1859                       -9.8   \n",
              "8759               1.3              1909                       -9.3   \n",
              "\n",
              "      Solar Radiation (MJ/m2)  Rainfall(mm)  Snowfall (cm) Seasons  \\\n",
              "8755                      0.0           0.0            0.0  Autumn   \n",
              "8756                      0.0           0.0            0.0  Autumn   \n",
              "8757                      0.0           0.0            0.0  Autumn   \n",
              "8758                      0.0           0.0            0.0  Autumn   \n",
              "8759                      0.0           0.0            0.0  Autumn   \n",
              "\n",
              "         Holiday Functioning Day  \n",
              "8755  No Holiday             Yes  \n",
              "8756  No Holiday             Yes  \n",
              "8757  No Holiday             Yes  \n",
              "8758  No Holiday             Yes  \n",
              "8759  No Holiday             Yes  "
            ],
            "text/html": [
              "\n",
              "\n",
              "  <div id=\"df-c79c9072-697d-4a44-8007-4c7de88ae10a\">\n",
              "    <div class=\"colab-df-container\">\n",
              "      <div>\n",
              "<style scoped>\n",
              "    .dataframe tbody tr th:only-of-type {\n",
              "        vertical-align: middle;\n",
              "    }\n",
              "\n",
              "    .dataframe tbody tr th {\n",
              "        vertical-align: top;\n",
              "    }\n",
              "\n",
              "    .dataframe thead th {\n",
              "        text-align: right;\n",
              "    }\n",
              "</style>\n",
              "<table border=\"1\" class=\"dataframe\">\n",
              "  <thead>\n",
              "    <tr style=\"text-align: right;\">\n",
              "      <th></th>\n",
              "      <th>Date</th>\n",
              "      <th>Rented Bike Count</th>\n",
              "      <th>Hour</th>\n",
              "      <th>Temperature(°C)</th>\n",
              "      <th>Humidity(%)</th>\n",
              "      <th>Wind speed (m/s)</th>\n",
              "      <th>Visibility (10m)</th>\n",
              "      <th>Dew point temperature(°C)</th>\n",
              "      <th>Solar Radiation (MJ/m2)</th>\n",
              "      <th>Rainfall(mm)</th>\n",
              "      <th>Snowfall (cm)</th>\n",
              "      <th>Seasons</th>\n",
              "      <th>Holiday</th>\n",
              "      <th>Functioning Day</th>\n",
              "    </tr>\n",
              "  </thead>\n",
              "  <tbody>\n",
              "    <tr>\n",
              "      <th>8755</th>\n",
              "      <td>30/11/2018</td>\n",
              "      <td>1003</td>\n",
              "      <td>19</td>\n",
              "      <td>4.2</td>\n",
              "      <td>34</td>\n",
              "      <td>2.6</td>\n",
              "      <td>1894</td>\n",
              "      <td>-10.3</td>\n",
              "      <td>0.0</td>\n",
              "      <td>0.0</td>\n",
              "      <td>0.0</td>\n",
              "      <td>Autumn</td>\n",
              "      <td>No Holiday</td>\n",
              "      <td>Yes</td>\n",
              "    </tr>\n",
              "    <tr>\n",
              "      <th>8756</th>\n",
              "      <td>30/11/2018</td>\n",
              "      <td>764</td>\n",
              "      <td>20</td>\n",
              "      <td>3.4</td>\n",
              "      <td>37</td>\n",
              "      <td>2.3</td>\n",
              "      <td>2000</td>\n",
              "      <td>-9.9</td>\n",
              "      <td>0.0</td>\n",
              "      <td>0.0</td>\n",
              "      <td>0.0</td>\n",
              "      <td>Autumn</td>\n",
              "      <td>No Holiday</td>\n",
              "      <td>Yes</td>\n",
              "    </tr>\n",
              "    <tr>\n",
              "      <th>8757</th>\n",
              "      <td>30/11/2018</td>\n",
              "      <td>694</td>\n",
              "      <td>21</td>\n",
              "      <td>2.6</td>\n",
              "      <td>39</td>\n",
              "      <td>0.3</td>\n",
              "      <td>1968</td>\n",
              "      <td>-9.9</td>\n",
              "      <td>0.0</td>\n",
              "      <td>0.0</td>\n",
              "      <td>0.0</td>\n",
              "      <td>Autumn</td>\n",
              "      <td>No Holiday</td>\n",
              "      <td>Yes</td>\n",
              "    </tr>\n",
              "    <tr>\n",
              "      <th>8758</th>\n",
              "      <td>30/11/2018</td>\n",
              "      <td>712</td>\n",
              "      <td>22</td>\n",
              "      <td>2.1</td>\n",
              "      <td>41</td>\n",
              "      <td>1.0</td>\n",
              "      <td>1859</td>\n",
              "      <td>-9.8</td>\n",
              "      <td>0.0</td>\n",
              "      <td>0.0</td>\n",
              "      <td>0.0</td>\n",
              "      <td>Autumn</td>\n",
              "      <td>No Holiday</td>\n",
              "      <td>Yes</td>\n",
              "    </tr>\n",
              "    <tr>\n",
              "      <th>8759</th>\n",
              "      <td>30/11/2018</td>\n",
              "      <td>584</td>\n",
              "      <td>23</td>\n",
              "      <td>1.9</td>\n",
              "      <td>43</td>\n",
              "      <td>1.3</td>\n",
              "      <td>1909</td>\n",
              "      <td>-9.3</td>\n",
              "      <td>0.0</td>\n",
              "      <td>0.0</td>\n",
              "      <td>0.0</td>\n",
              "      <td>Autumn</td>\n",
              "      <td>No Holiday</td>\n",
              "      <td>Yes</td>\n",
              "    </tr>\n",
              "  </tbody>\n",
              "</table>\n",
              "</div>\n",
              "      <button class=\"colab-df-convert\" onclick=\"convertToInteractive('df-c79c9072-697d-4a44-8007-4c7de88ae10a')\"\n",
              "              title=\"Convert this dataframe to an interactive table.\"\n",
              "              style=\"display:none;\">\n",
              "\n",
              "  <svg xmlns=\"http://www.w3.org/2000/svg\" height=\"24px\"viewBox=\"0 0 24 24\"\n",
              "       width=\"24px\">\n",
              "    <path d=\"M0 0h24v24H0V0z\" fill=\"none\"/>\n",
              "    <path d=\"M18.56 5.44l.94 2.06.94-2.06 2.06-.94-2.06-.94-.94-2.06-.94 2.06-2.06.94zm-11 1L8.5 8.5l.94-2.06 2.06-.94-2.06-.94L8.5 2.5l-.94 2.06-2.06.94zm10 10l.94 2.06.94-2.06 2.06-.94-2.06-.94-.94-2.06-.94 2.06-2.06.94z\"/><path d=\"M17.41 7.96l-1.37-1.37c-.4-.4-.92-.59-1.43-.59-.52 0-1.04.2-1.43.59L10.3 9.45l-7.72 7.72c-.78.78-.78 2.05 0 2.83L4 21.41c.39.39.9.59 1.41.59.51 0 1.02-.2 1.41-.59l7.78-7.78 2.81-2.81c.8-.78.8-2.07 0-2.86zM5.41 20L4 18.59l7.72-7.72 1.47 1.35L5.41 20z\"/>\n",
              "  </svg>\n",
              "      </button>\n",
              "\n",
              "\n",
              "\n",
              "    <div id=\"df-05c1eb4a-2355-44c4-b5c9-974c578a8014\">\n",
              "      <button class=\"colab-df-quickchart\" onclick=\"quickchart('df-05c1eb4a-2355-44c4-b5c9-974c578a8014')\"\n",
              "              title=\"Suggest charts.\"\n",
              "              style=\"display:none;\">\n",
              "\n",
              "<svg xmlns=\"http://www.w3.org/2000/svg\" height=\"24px\"viewBox=\"0 0 24 24\"\n",
              "     width=\"24px\">\n",
              "    <g>\n",
              "        <path d=\"M19 3H5c-1.1 0-2 .9-2 2v14c0 1.1.9 2 2 2h14c1.1 0 2-.9 2-2V5c0-1.1-.9-2-2-2zM9 17H7v-7h2v7zm4 0h-2V7h2v10zm4 0h-2v-4h2v4z\"/>\n",
              "    </g>\n",
              "</svg>\n",
              "      </button>\n",
              "    </div>\n",
              "\n",
              "<style>\n",
              "  .colab-df-quickchart {\n",
              "    background-color: #E8F0FE;\n",
              "    border: none;\n",
              "    border-radius: 50%;\n",
              "    cursor: pointer;\n",
              "    display: none;\n",
              "    fill: #1967D2;\n",
              "    height: 32px;\n",
              "    padding: 0 0 0 0;\n",
              "    width: 32px;\n",
              "  }\n",
              "\n",
              "  .colab-df-quickchart:hover {\n",
              "    background-color: #E2EBFA;\n",
              "    box-shadow: 0px 1px 2px rgba(60, 64, 67, 0.3), 0px 1px 3px 1px rgba(60, 64, 67, 0.15);\n",
              "    fill: #174EA6;\n",
              "  }\n",
              "\n",
              "  [theme=dark] .colab-df-quickchart {\n",
              "    background-color: #3B4455;\n",
              "    fill: #D2E3FC;\n",
              "  }\n",
              "\n",
              "  [theme=dark] .colab-df-quickchart:hover {\n",
              "    background-color: #434B5C;\n",
              "    box-shadow: 0px 1px 3px 1px rgba(0, 0, 0, 0.15);\n",
              "    filter: drop-shadow(0px 1px 2px rgba(0, 0, 0, 0.3));\n",
              "    fill: #FFFFFF;\n",
              "  }\n",
              "</style>\n",
              "\n",
              "    <script>\n",
              "      async function quickchart(key) {\n",
              "        const containerElement = document.querySelector('#' + key);\n",
              "        const charts = await google.colab.kernel.invokeFunction(\n",
              "            'suggestCharts', [key], {});\n",
              "      }\n",
              "    </script>\n",
              "\n",
              "      <script>\n",
              "\n",
              "function displayQuickchartButton(domScope) {\n",
              "  let quickchartButtonEl =\n",
              "    domScope.querySelector('#df-05c1eb4a-2355-44c4-b5c9-974c578a8014 button.colab-df-quickchart');\n",
              "  quickchartButtonEl.style.display =\n",
              "    google.colab.kernel.accessAllowed ? 'block' : 'none';\n",
              "}\n",
              "\n",
              "        displayQuickchartButton(document);\n",
              "      </script>\n",
              "      <style>\n",
              "    .colab-df-container {\n",
              "      display:flex;\n",
              "      flex-wrap:wrap;\n",
              "      gap: 12px;\n",
              "    }\n",
              "\n",
              "    .colab-df-convert {\n",
              "      background-color: #E8F0FE;\n",
              "      border: none;\n",
              "      border-radius: 50%;\n",
              "      cursor: pointer;\n",
              "      display: none;\n",
              "      fill: #1967D2;\n",
              "      height: 32px;\n",
              "      padding: 0 0 0 0;\n",
              "      width: 32px;\n",
              "    }\n",
              "\n",
              "    .colab-df-convert:hover {\n",
              "      background-color: #E2EBFA;\n",
              "      box-shadow: 0px 1px 2px rgba(60, 64, 67, 0.3), 0px 1px 3px 1px rgba(60, 64, 67, 0.15);\n",
              "      fill: #174EA6;\n",
              "    }\n",
              "\n",
              "    [theme=dark] .colab-df-convert {\n",
              "      background-color: #3B4455;\n",
              "      fill: #D2E3FC;\n",
              "    }\n",
              "\n",
              "    [theme=dark] .colab-df-convert:hover {\n",
              "      background-color: #434B5C;\n",
              "      box-shadow: 0px 1px 3px 1px rgba(0, 0, 0, 0.15);\n",
              "      filter: drop-shadow(0px 1px 2px rgba(0, 0, 0, 0.3));\n",
              "      fill: #FFFFFF;\n",
              "    }\n",
              "  </style>\n",
              "\n",
              "      <script>\n",
              "        const buttonEl =\n",
              "          document.querySelector('#df-c79c9072-697d-4a44-8007-4c7de88ae10a button.colab-df-convert');\n",
              "        buttonEl.style.display =\n",
              "          google.colab.kernel.accessAllowed ? 'block' : 'none';\n",
              "\n",
              "        async function convertToInteractive(key) {\n",
              "          const element = document.querySelector('#df-c79c9072-697d-4a44-8007-4c7de88ae10a');\n",
              "          const dataTable =\n",
              "            await google.colab.kernel.invokeFunction('convertToInteractive',\n",
              "                                                     [key], {});\n",
              "          if (!dataTable) return;\n",
              "\n",
              "          const docLinkHtml = 'Like what you see? Visit the ' +\n",
              "            '<a target=\"_blank\" href=https://colab.research.google.com/notebooks/data_table.ipynb>data table notebook</a>'\n",
              "            + ' to learn more about interactive tables.';\n",
              "          element.innerHTML = '';\n",
              "          dataTable['output_type'] = 'display_data';\n",
              "          await google.colab.output.renderOutput(dataTable, element);\n",
              "          const docLink = document.createElement('div');\n",
              "          docLink.innerHTML = docLinkHtml;\n",
              "          element.appendChild(docLink);\n",
              "        }\n",
              "      </script>\n",
              "    </div>\n",
              "  </div>\n"
            ]
          },
          "metadata": {},
          "execution_count": 7
        }
      ]
    },
    {
      "cell_type": "markdown",
      "source": [
        "### Dataset Rows & Columns count"
      ],
      "metadata": {
        "id": "7hBIi_osiCS2"
      }
    },
    {
      "cell_type": "code",
      "source": [
        "# Dataset Rows & Columns count\n",
        "#Here we are using shape function which tells us about the numbers of rows and columns in the dataset\n",
        "print(f\"The shape of seoul bike dataset is {sb_data.shape}\")\n",
        "print(f\"Number of Rows in seoul bike dataset is     -  {sb_data.shape[0]}\")\n",
        "print(f\"Number of Columns in seoul bike dataset is  -  {sb_data.shape[1]}\")\n",
        "\n",
        "\n"
      ],
      "metadata": {
        "id": "Kllu7SJgmLij",
        "colab": {
          "base_uri": "https://localhost:8080/"
        },
        "outputId": "fcb2ce4a-abd7-4a63-d69d-966c3f62c334"
      },
      "execution_count": 8,
      "outputs": [
        {
          "output_type": "stream",
          "name": "stdout",
          "text": [
            "The shape of seoul bike dataset is (8760, 14)\n",
            "Number of Rows in seoul bike dataset is     -  8760\n",
            "Number of Columns in seoul bike dataset is  -  14\n"
          ]
        }
      ]
    },
    {
      "cell_type": "markdown",
      "source": [
        "### Dataset Information"
      ],
      "metadata": {
        "id": "JlHwYmJAmNHm"
      }
    },
    {
      "cell_type": "code",
      "source": [
        "# Dataset Info\n",
        "sb_data.info()"
      ],
      "metadata": {
        "id": "e9hRXRi6meOf",
        "colab": {
          "base_uri": "https://localhost:8080/"
        },
        "outputId": "135f431c-ec1b-42f2-f4f9-41deda3da03c"
      },
      "execution_count": 9,
      "outputs": [
        {
          "output_type": "stream",
          "name": "stdout",
          "text": [
            "<class 'pandas.core.frame.DataFrame'>\n",
            "RangeIndex: 8760 entries, 0 to 8759\n",
            "Data columns (total 14 columns):\n",
            " #   Column                     Non-Null Count  Dtype  \n",
            "---  ------                     --------------  -----  \n",
            " 0   Date                       8760 non-null   object \n",
            " 1   Rented Bike Count          8760 non-null   int64  \n",
            " 2   Hour                       8760 non-null   int64  \n",
            " 3   Temperature(°C)            8760 non-null   float64\n",
            " 4   Humidity(%)                8760 non-null   int64  \n",
            " 5   Wind speed (m/s)           8760 non-null   float64\n",
            " 6   Visibility (10m)           8760 non-null   int64  \n",
            " 7   Dew point temperature(°C)  8760 non-null   float64\n",
            " 8   Solar Radiation (MJ/m2)    8760 non-null   float64\n",
            " 9   Rainfall(mm)               8760 non-null   float64\n",
            " 10  Snowfall (cm)              8760 non-null   float64\n",
            " 11  Seasons                    8760 non-null   object \n",
            " 12  Holiday                    8760 non-null   object \n",
            " 13  Functioning Day            8760 non-null   object \n",
            "dtypes: float64(6), int64(4), object(4)\n",
            "memory usage: 958.2+ KB\n"
          ]
        }
      ]
    },
    {
      "cell_type": "markdown",
      "source": [
        "#### Duplicate Values"
      ],
      "metadata": {
        "id": "35m5QtbWiB9F"
      }
    },
    {
      "cell_type": "code",
      "source": [
        "# Dataset Duplicate Value Count"
      ],
      "metadata": {
        "id": "1sLdpKYkmox0"
      },
      "execution_count": null,
      "outputs": []
    },
    {
      "cell_type": "markdown",
      "source": [
        "#### Missing Values/Null Values"
      ],
      "metadata": {
        "id": "PoPl-ycgm1ru"
      }
    },
    {
      "cell_type": "code",
      "source": [
        "# Missing Values/Null Values Count"
      ],
      "metadata": {
        "id": "GgHWkxvamxVg"
      },
      "execution_count": null,
      "outputs": []
    },
    {
      "cell_type": "code",
      "source": [
        "# Visualizing the missing values"
      ],
      "metadata": {
        "id": "3q5wnI3om9sJ"
      },
      "execution_count": null,
      "outputs": []
    },
    {
      "cell_type": "markdown",
      "source": [
        "### What did you know about your dataset?"
      ],
      "metadata": {
        "id": "H0kj-8xxnORC"
      }
    },
    {
      "cell_type": "markdown",
      "source": [
        "Answer Here"
      ],
      "metadata": {
        "id": "gfoNAAC-nUe_"
      }
    },
    {
      "cell_type": "markdown",
      "source": [
        "## ***2. Understanding Your Variables***"
      ],
      "metadata": {
        "id": "nA9Y7ga8ng1Z"
      }
    },
    {
      "cell_type": "code",
      "source": [
        "# Dataset Columns"
      ],
      "metadata": {
        "id": "j7xfkqrt5Ag5"
      },
      "execution_count": null,
      "outputs": []
    },
    {
      "cell_type": "code",
      "source": [
        "# Dataset Describe"
      ],
      "metadata": {
        "id": "DnOaZdaE5Q5t"
      },
      "execution_count": null,
      "outputs": []
    },
    {
      "cell_type": "markdown",
      "source": [
        "### Variables Description"
      ],
      "metadata": {
        "id": "PBTbrJXOngz2"
      }
    },
    {
      "cell_type": "markdown",
      "source": [
        "Answer Here"
      ],
      "metadata": {
        "id": "aJV4KIxSnxay"
      }
    },
    {
      "cell_type": "markdown",
      "source": [
        "### Check Unique Values for each variable."
      ],
      "metadata": {
        "id": "u3PMJOP6ngxN"
      }
    },
    {
      "cell_type": "code",
      "source": [
        "# Check Unique Values for each variable."
      ],
      "metadata": {
        "id": "zms12Yq5n-jE"
      },
      "execution_count": null,
      "outputs": []
    },
    {
      "cell_type": "markdown",
      "source": [
        "## 3. ***Data Wrangling***"
      ],
      "metadata": {
        "id": "dauF4eBmngu3"
      }
    },
    {
      "cell_type": "markdown",
      "source": [
        "### Data Wrangling Code"
      ],
      "metadata": {
        "id": "bKJF3rekwFvQ"
      }
    },
    {
      "cell_type": "code",
      "source": [
        "# Write your code to make your dataset analysis ready."
      ],
      "metadata": {
        "id": "wk-9a2fpoLcV"
      },
      "execution_count": null,
      "outputs": []
    },
    {
      "cell_type": "markdown",
      "source": [
        "### What all manipulations have you done and insights you found?"
      ],
      "metadata": {
        "id": "MSa1f5Uengrz"
      }
    },
    {
      "cell_type": "markdown",
      "source": [
        "Answer Here."
      ],
      "metadata": {
        "id": "LbyXE7I1olp8"
      }
    },
    {
      "cell_type": "markdown",
      "source": [
        "## ***4. Data Vizualization, Storytelling & Experimenting with charts : Understand the relationships between variables***"
      ],
      "metadata": {
        "id": "GF8Ens_Soomf"
      }
    },
    {
      "cell_type": "markdown",
      "source": [
        "#### Chart - 1"
      ],
      "metadata": {
        "id": "0wOQAZs5pc--"
      }
    },
    {
      "cell_type": "code",
      "source": [
        "# Chart - 1 visualization code"
      ],
      "metadata": {
        "id": "7v_ESjsspbW7"
      },
      "execution_count": null,
      "outputs": []
    },
    {
      "cell_type": "markdown",
      "source": [
        "##### 1. Why did you pick the specific chart?"
      ],
      "metadata": {
        "id": "K5QZ13OEpz2H"
      }
    },
    {
      "cell_type": "markdown",
      "source": [
        "Answer Here."
      ],
      "metadata": {
        "id": "XESiWehPqBRc"
      }
    },
    {
      "cell_type": "markdown",
      "source": [
        "##### 2. What is/are the insight(s) found from the chart?"
      ],
      "metadata": {
        "id": "lQ7QKXXCp7Bj"
      }
    },
    {
      "cell_type": "markdown",
      "source": [
        "Answer Here"
      ],
      "metadata": {
        "id": "C_j1G7yiqdRP"
      }
    },
    {
      "cell_type": "markdown",
      "source": [
        "##### 3. Will the gained insights help creating a positive business impact?\n",
        "Are there any insights that lead to negative growth? Justify with specific reason."
      ],
      "metadata": {
        "id": "448CDAPjqfQr"
      }
    },
    {
      "cell_type": "markdown",
      "source": [
        "Answer Here"
      ],
      "metadata": {
        "id": "3cspy4FjqxJW"
      }
    },
    {
      "cell_type": "markdown",
      "source": [
        "#### Chart - 2"
      ],
      "metadata": {
        "id": "KSlN3yHqYklG"
      }
    },
    {
      "cell_type": "code",
      "source": [
        "# Chart - 2 visualization code"
      ],
      "metadata": {
        "id": "R4YgtaqtYklH"
      },
      "execution_count": null,
      "outputs": []
    },
    {
      "cell_type": "markdown",
      "source": [
        "##### 1. Why did you pick the specific chart?"
      ],
      "metadata": {
        "id": "t6dVpIINYklI"
      }
    },
    {
      "cell_type": "markdown",
      "source": [
        "Answer Here."
      ],
      "metadata": {
        "id": "5aaW0BYyYklI"
      }
    },
    {
      "cell_type": "markdown",
      "source": [
        "##### 2. What is/are the insight(s) found from the chart?"
      ],
      "metadata": {
        "id": "ijmpgYnKYklI"
      }
    },
    {
      "cell_type": "markdown",
      "source": [
        "Answer Here"
      ],
      "metadata": {
        "id": "PSx9atu2YklI"
      }
    },
    {
      "cell_type": "markdown",
      "source": [
        "##### 3. Will the gained insights help creating a positive business impact?\n",
        "Are there any insights that lead to negative growth? Justify with specific reason."
      ],
      "metadata": {
        "id": "-JiQyfWJYklI"
      }
    },
    {
      "cell_type": "markdown",
      "source": [
        "Answer Here"
      ],
      "metadata": {
        "id": "BcBbebzrYklV"
      }
    },
    {
      "cell_type": "markdown",
      "source": [
        "#### Chart - 3"
      ],
      "metadata": {
        "id": "EM7whBJCYoAo"
      }
    },
    {
      "cell_type": "code",
      "source": [
        "# Chart - 3 visualization code"
      ],
      "metadata": {
        "id": "t6GMdE67YoAp"
      },
      "execution_count": null,
      "outputs": []
    },
    {
      "cell_type": "markdown",
      "source": [
        "##### 1. Why did you pick the specific chart?"
      ],
      "metadata": {
        "id": "fge-S5ZAYoAp"
      }
    },
    {
      "cell_type": "markdown",
      "source": [
        "Answer Here."
      ],
      "metadata": {
        "id": "5dBItgRVYoAp"
      }
    },
    {
      "cell_type": "markdown",
      "source": [
        "##### 2. What is/are the insight(s) found from the chart?"
      ],
      "metadata": {
        "id": "85gYPyotYoAp"
      }
    },
    {
      "cell_type": "markdown",
      "source": [
        "Answer Here"
      ],
      "metadata": {
        "id": "4jstXR6OYoAp"
      }
    },
    {
      "cell_type": "markdown",
      "source": [
        "##### 3. Will the gained insights help creating a positive business impact?\n",
        "Are there any insights that lead to negative growth? Justify with specific reason."
      ],
      "metadata": {
        "id": "RoGjAbkUYoAp"
      }
    },
    {
      "cell_type": "markdown",
      "source": [
        "Answer Here"
      ],
      "metadata": {
        "id": "zfJ8IqMcYoAp"
      }
    },
    {
      "cell_type": "markdown",
      "source": [
        "#### Chart - 4"
      ],
      "metadata": {
        "id": "4Of9eVA-YrdM"
      }
    },
    {
      "cell_type": "code",
      "source": [
        "# Chart - 4 visualization code"
      ],
      "metadata": {
        "id": "irlUoxc8YrdO"
      },
      "execution_count": null,
      "outputs": []
    },
    {
      "cell_type": "markdown",
      "source": [
        "##### 1. Why did you pick the specific chart?"
      ],
      "metadata": {
        "id": "iky9q4vBYrdO"
      }
    },
    {
      "cell_type": "markdown",
      "source": [
        "Answer Here."
      ],
      "metadata": {
        "id": "aJRCwT6DYrdO"
      }
    },
    {
      "cell_type": "markdown",
      "source": [
        "##### 2. What is/are the insight(s) found from the chart?"
      ],
      "metadata": {
        "id": "F6T5p64dYrdO"
      }
    },
    {
      "cell_type": "markdown",
      "source": [
        "Answer Here"
      ],
      "metadata": {
        "id": "Xx8WAJvtYrdO"
      }
    },
    {
      "cell_type": "markdown",
      "source": [
        "##### 3. Will the gained insights help creating a positive business impact?\n",
        "Are there any insights that lead to negative growth? Justify with specific reason."
      ],
      "metadata": {
        "id": "y-Ehk30pYrdP"
      }
    },
    {
      "cell_type": "markdown",
      "source": [
        "Answer Here"
      ],
      "metadata": {
        "id": "jLNxxz7MYrdP"
      }
    },
    {
      "cell_type": "markdown",
      "source": [
        "#### Chart - 5"
      ],
      "metadata": {
        "id": "bamQiAODYuh1"
      }
    },
    {
      "cell_type": "code",
      "source": [
        "# Chart - 5 visualization code"
      ],
      "metadata": {
        "id": "TIJwrbroYuh3"
      },
      "execution_count": null,
      "outputs": []
    },
    {
      "cell_type": "markdown",
      "source": [
        "##### 1. Why did you pick the specific chart?"
      ],
      "metadata": {
        "id": "QHF8YVU7Yuh3"
      }
    },
    {
      "cell_type": "markdown",
      "source": [
        "Answer Here."
      ],
      "metadata": {
        "id": "dcxuIMRPYuh3"
      }
    },
    {
      "cell_type": "markdown",
      "source": [
        "##### 2. What is/are the insight(s) found from the chart?"
      ],
      "metadata": {
        "id": "GwzvFGzlYuh3"
      }
    },
    {
      "cell_type": "markdown",
      "source": [
        "Answer Here"
      ],
      "metadata": {
        "id": "uyqkiB8YYuh3"
      }
    },
    {
      "cell_type": "markdown",
      "source": [
        "##### 3. Will the gained insights help creating a positive business impact?\n",
        "Are there any insights that lead to negative growth? Justify with specific reason."
      ],
      "metadata": {
        "id": "qYpmQ266Yuh3"
      }
    },
    {
      "cell_type": "markdown",
      "source": [
        "Answer Here"
      ],
      "metadata": {
        "id": "_WtzZ_hCYuh4"
      }
    },
    {
      "cell_type": "markdown",
      "source": [
        "#### Chart - 6"
      ],
      "metadata": {
        "id": "OH-pJp9IphqM"
      }
    },
    {
      "cell_type": "code",
      "source": [
        "# Chart - 6 visualization code"
      ],
      "metadata": {
        "id": "kuRf4wtuphqN"
      },
      "execution_count": null,
      "outputs": []
    },
    {
      "cell_type": "markdown",
      "source": [
        "##### 1. Why did you pick the specific chart?"
      ],
      "metadata": {
        "id": "bbFf2-_FphqN"
      }
    },
    {
      "cell_type": "markdown",
      "source": [
        "Answer Here."
      ],
      "metadata": {
        "id": "loh7H2nzphqN"
      }
    },
    {
      "cell_type": "markdown",
      "source": [
        "##### 2. What is/are the insight(s) found from the chart?"
      ],
      "metadata": {
        "id": "_ouA3fa0phqN"
      }
    },
    {
      "cell_type": "markdown",
      "source": [
        "Answer Here"
      ],
      "metadata": {
        "id": "VECbqPI7phqN"
      }
    },
    {
      "cell_type": "markdown",
      "source": [
        "##### 3. Will the gained insights help creating a positive business impact?\n",
        "Are there any insights that lead to negative growth? Justify with specific reason."
      ],
      "metadata": {
        "id": "Seke61FWphqN"
      }
    },
    {
      "cell_type": "markdown",
      "source": [
        "Answer Here"
      ],
      "metadata": {
        "id": "DW4_bGpfphqN"
      }
    },
    {
      "cell_type": "markdown",
      "source": [
        "#### Chart - 7"
      ],
      "metadata": {
        "id": "PIIx-8_IphqN"
      }
    },
    {
      "cell_type": "code",
      "source": [
        "# Chart - 7 visualization code"
      ],
      "metadata": {
        "id": "lqAIGUfyphqO"
      },
      "execution_count": null,
      "outputs": []
    },
    {
      "cell_type": "markdown",
      "source": [
        "##### 1. Why did you pick the specific chart?"
      ],
      "metadata": {
        "id": "t27r6nlMphqO"
      }
    },
    {
      "cell_type": "markdown",
      "source": [
        "Answer Here."
      ],
      "metadata": {
        "id": "iv6ro40sphqO"
      }
    },
    {
      "cell_type": "markdown",
      "source": [
        "##### 2. What is/are the insight(s) found from the chart?"
      ],
      "metadata": {
        "id": "r2jJGEOYphqO"
      }
    },
    {
      "cell_type": "markdown",
      "source": [
        "Answer Here"
      ],
      "metadata": {
        "id": "Po6ZPi4hphqO"
      }
    },
    {
      "cell_type": "markdown",
      "source": [
        "##### 3. Will the gained insights help creating a positive business impact?\n",
        "Are there any insights that lead to negative growth? Justify with specific reason."
      ],
      "metadata": {
        "id": "b0JNsNcRphqO"
      }
    },
    {
      "cell_type": "markdown",
      "source": [
        "Answer Here"
      ],
      "metadata": {
        "id": "xvSq8iUTphqO"
      }
    },
    {
      "cell_type": "markdown",
      "source": [
        "#### Chart - 8"
      ],
      "metadata": {
        "id": "BZR9WyysphqO"
      }
    },
    {
      "cell_type": "code",
      "source": [
        "# Chart - 8 visualization code"
      ],
      "metadata": {
        "id": "TdPTWpAVphqO"
      },
      "execution_count": null,
      "outputs": []
    },
    {
      "cell_type": "markdown",
      "source": [
        "##### 1. Why did you pick the specific chart?"
      ],
      "metadata": {
        "id": "jj7wYXLtphqO"
      }
    },
    {
      "cell_type": "markdown",
      "source": [
        "Answer Here."
      ],
      "metadata": {
        "id": "Ob8u6rCTphqO"
      }
    },
    {
      "cell_type": "markdown",
      "source": [
        "##### 2. What is/are the insight(s) found from the chart?"
      ],
      "metadata": {
        "id": "eZrbJ2SmphqO"
      }
    },
    {
      "cell_type": "markdown",
      "source": [
        "Answer Here"
      ],
      "metadata": {
        "id": "mZtgC_hjphqO"
      }
    },
    {
      "cell_type": "markdown",
      "source": [
        "##### 3. Will the gained insights help creating a positive business impact?\n",
        "Are there any insights that lead to negative growth? Justify with specific reason."
      ],
      "metadata": {
        "id": "rFu4xreNphqO"
      }
    },
    {
      "cell_type": "markdown",
      "source": [
        "Answer Here"
      ],
      "metadata": {
        "id": "ey_0qi68phqO"
      }
    },
    {
      "cell_type": "markdown",
      "source": [
        "#### Chart - 9"
      ],
      "metadata": {
        "id": "YJ55k-q6phqO"
      }
    },
    {
      "cell_type": "code",
      "source": [
        "# Chart - 9 visualization code"
      ],
      "metadata": {
        "id": "B2aS4O1ophqO"
      },
      "execution_count": null,
      "outputs": []
    },
    {
      "cell_type": "markdown",
      "source": [
        "##### 1. Why did you pick the specific chart?"
      ],
      "metadata": {
        "id": "gCFgpxoyphqP"
      }
    },
    {
      "cell_type": "markdown",
      "source": [
        "Answer Here."
      ],
      "metadata": {
        "id": "TVxDimi2phqP"
      }
    },
    {
      "cell_type": "markdown",
      "source": [
        "##### 2. What is/are the insight(s) found from the chart?"
      ],
      "metadata": {
        "id": "OVtJsKN_phqQ"
      }
    },
    {
      "cell_type": "markdown",
      "source": [
        "Answer Here"
      ],
      "metadata": {
        "id": "ngGi97qjphqQ"
      }
    },
    {
      "cell_type": "markdown",
      "source": [
        "##### 3. Will the gained insights help creating a positive business impact?\n",
        "Are there any insights that lead to negative growth? Justify with specific reason."
      ],
      "metadata": {
        "id": "lssrdh5qphqQ"
      }
    },
    {
      "cell_type": "markdown",
      "source": [
        "Answer Here"
      ],
      "metadata": {
        "id": "tBpY5ekJphqQ"
      }
    },
    {
      "cell_type": "markdown",
      "source": [
        "#### Chart - 10"
      ],
      "metadata": {
        "id": "U2RJ9gkRphqQ"
      }
    },
    {
      "cell_type": "code",
      "source": [
        "# Chart - 10 visualization code"
      ],
      "metadata": {
        "id": "GM7a4YP4phqQ"
      },
      "execution_count": null,
      "outputs": []
    },
    {
      "cell_type": "markdown",
      "source": [
        "##### 1. Why did you pick the specific chart?"
      ],
      "metadata": {
        "id": "1M8mcRywphqQ"
      }
    },
    {
      "cell_type": "markdown",
      "source": [
        "Answer Here."
      ],
      "metadata": {
        "id": "8agQvks0phqQ"
      }
    },
    {
      "cell_type": "markdown",
      "source": [
        "##### 2. What is/are the insight(s) found from the chart?"
      ],
      "metadata": {
        "id": "tgIPom80phqQ"
      }
    },
    {
      "cell_type": "markdown",
      "source": [
        "Answer Here"
      ],
      "metadata": {
        "id": "Qp13pnNzphqQ"
      }
    },
    {
      "cell_type": "markdown",
      "source": [
        "##### 3. Will the gained insights help creating a positive business impact?\n",
        "Are there any insights that lead to negative growth? Justify with specific reason."
      ],
      "metadata": {
        "id": "JMzcOPDDphqR"
      }
    },
    {
      "cell_type": "markdown",
      "source": [
        "Answer Here"
      ],
      "metadata": {
        "id": "R4Ka1PC2phqR"
      }
    },
    {
      "cell_type": "markdown",
      "source": [
        "#### Chart - 11"
      ],
      "metadata": {
        "id": "x-EpHcCOp1ci"
      }
    },
    {
      "cell_type": "code",
      "source": [
        "# Chart - 11 visualization code"
      ],
      "metadata": {
        "id": "mAQTIvtqp1cj"
      },
      "execution_count": null,
      "outputs": []
    },
    {
      "cell_type": "markdown",
      "source": [
        "##### 1. Why did you pick the specific chart?"
      ],
      "metadata": {
        "id": "X_VqEhTip1ck"
      }
    },
    {
      "cell_type": "markdown",
      "source": [
        "Answer Here."
      ],
      "metadata": {
        "id": "-vsMzt_np1ck"
      }
    },
    {
      "cell_type": "markdown",
      "source": [
        "##### 2. What is/are the insight(s) found from the chart?"
      ],
      "metadata": {
        "id": "8zGJKyg5p1ck"
      }
    },
    {
      "cell_type": "markdown",
      "source": [
        "Answer Here"
      ],
      "metadata": {
        "id": "ZYdMsrqVp1ck"
      }
    },
    {
      "cell_type": "markdown",
      "source": [
        "##### 3. Will the gained insights help creating a positive business impact?\n",
        "Are there any insights that lead to negative growth? Justify with specific reason."
      ],
      "metadata": {
        "id": "PVzmfK_Ep1ck"
      }
    },
    {
      "cell_type": "markdown",
      "source": [
        "Answer Here"
      ],
      "metadata": {
        "id": "druuKYZpp1ck"
      }
    },
    {
      "cell_type": "markdown",
      "source": [
        "#### Chart - 12"
      ],
      "metadata": {
        "id": "n3dbpmDWp1ck"
      }
    },
    {
      "cell_type": "code",
      "source": [
        "# Chart - 12 visualization code"
      ],
      "metadata": {
        "id": "bwevp1tKp1ck"
      },
      "execution_count": null,
      "outputs": []
    },
    {
      "cell_type": "markdown",
      "source": [
        "##### 1. Why did you pick the specific chart?"
      ],
      "metadata": {
        "id": "ylSl6qgtp1ck"
      }
    },
    {
      "cell_type": "markdown",
      "source": [
        "Answer Here."
      ],
      "metadata": {
        "id": "m2xqNkiQp1ck"
      }
    },
    {
      "cell_type": "markdown",
      "source": [
        "##### 2. What is/are the insight(s) found from the chart?"
      ],
      "metadata": {
        "id": "ZWILFDl5p1ck"
      }
    },
    {
      "cell_type": "markdown",
      "source": [
        "Answer Here"
      ],
      "metadata": {
        "id": "x-lUsV2mp1ck"
      }
    },
    {
      "cell_type": "markdown",
      "source": [
        "##### 3. Will the gained insights help creating a positive business impact?\n",
        "Are there any insights that lead to negative growth? Justify with specific reason."
      ],
      "metadata": {
        "id": "M7G43BXep1ck"
      }
    },
    {
      "cell_type": "markdown",
      "source": [
        "Answer Here"
      ],
      "metadata": {
        "id": "5wwDJXsLp1cl"
      }
    },
    {
      "cell_type": "markdown",
      "source": [
        "#### Chart - 13"
      ],
      "metadata": {
        "id": "Ag9LCva-p1cl"
      }
    },
    {
      "cell_type": "code",
      "source": [
        "# Chart - 13 visualization code"
      ],
      "metadata": {
        "id": "EUfxeq9-p1cl"
      },
      "execution_count": null,
      "outputs": []
    },
    {
      "cell_type": "markdown",
      "source": [
        "##### 1. Why did you pick the specific chart?"
      ],
      "metadata": {
        "id": "E6MkPsBcp1cl"
      }
    },
    {
      "cell_type": "markdown",
      "source": [
        "Answer Here."
      ],
      "metadata": {
        "id": "V22bRsFWp1cl"
      }
    },
    {
      "cell_type": "markdown",
      "source": [
        "##### 2. What is/are the insight(s) found from the chart?"
      ],
      "metadata": {
        "id": "2cELzS2fp1cl"
      }
    },
    {
      "cell_type": "markdown",
      "source": [
        "Answer Here"
      ],
      "metadata": {
        "id": "ozQPc2_Ip1cl"
      }
    },
    {
      "cell_type": "markdown",
      "source": [
        "##### 3. Will the gained insights help creating a positive business impact?\n",
        "Are there any insights that lead to negative growth? Justify with specific reason."
      ],
      "metadata": {
        "id": "3MPXvC8up1cl"
      }
    },
    {
      "cell_type": "markdown",
      "source": [
        "Answer Here"
      ],
      "metadata": {
        "id": "GL8l1tdLp1cl"
      }
    },
    {
      "cell_type": "markdown",
      "source": [
        "#### Chart - 14 - Correlation Heatmap"
      ],
      "metadata": {
        "id": "NC_X3p0fY2L0"
      }
    },
    {
      "cell_type": "code",
      "source": [
        "# Correlation Heatmap visualization code"
      ],
      "metadata": {
        "id": "xyC9zolEZNRQ"
      },
      "execution_count": null,
      "outputs": []
    },
    {
      "cell_type": "markdown",
      "source": [
        "##### 1. Why did you pick the specific chart?"
      ],
      "metadata": {
        "id": "UV0SzAkaZNRQ"
      }
    },
    {
      "cell_type": "markdown",
      "source": [
        "Answer Here."
      ],
      "metadata": {
        "id": "DVPuT8LYZNRQ"
      }
    },
    {
      "cell_type": "markdown",
      "source": [
        "##### 2. What is/are the insight(s) found from the chart?"
      ],
      "metadata": {
        "id": "YPEH6qLeZNRQ"
      }
    },
    {
      "cell_type": "markdown",
      "source": [
        "Answer Here"
      ],
      "metadata": {
        "id": "bfSqtnDqZNRR"
      }
    },
    {
      "cell_type": "markdown",
      "source": [
        "#### Chart - 15 - Pair Plot"
      ],
      "metadata": {
        "id": "q29F0dvdveiT"
      }
    },
    {
      "cell_type": "code",
      "source": [
        "# Pair Plot visualization code"
      ],
      "metadata": {
        "id": "o58-TEIhveiU"
      },
      "execution_count": null,
      "outputs": []
    },
    {
      "cell_type": "markdown",
      "source": [
        "##### 1. Why did you pick the specific chart?"
      ],
      "metadata": {
        "id": "EXh0U9oCveiU"
      }
    },
    {
      "cell_type": "markdown",
      "source": [
        "Answer Here."
      ],
      "metadata": {
        "id": "eMmPjTByveiU"
      }
    },
    {
      "cell_type": "markdown",
      "source": [
        "##### 2. What is/are the insight(s) found from the chart?"
      ],
      "metadata": {
        "id": "22aHeOlLveiV"
      }
    },
    {
      "cell_type": "markdown",
      "source": [
        "Answer Here"
      ],
      "metadata": {
        "id": "uPQ8RGwHveiV"
      }
    },
    {
      "cell_type": "markdown",
      "source": [
        "## ***5. Hypothesis Testing***"
      ],
      "metadata": {
        "id": "g-ATYxFrGrvw"
      }
    },
    {
      "cell_type": "markdown",
      "source": [
        "### Based on your chart experiments, define three hypothetical statements from the dataset. In the next three questions, perform hypothesis testing to obtain final conclusion about the statements through your code and statistical testing."
      ],
      "metadata": {
        "id": "Yfr_Vlr8HBkt"
      }
    },
    {
      "cell_type": "markdown",
      "source": [
        "Answer Here."
      ],
      "metadata": {
        "id": "-7MS06SUHkB-"
      }
    },
    {
      "cell_type": "markdown",
      "source": [
        "### Hypothetical Statement - 1"
      ],
      "metadata": {
        "id": "8yEUt7NnHlrM"
      }
    },
    {
      "cell_type": "markdown",
      "source": [
        "#### 1. State Your research hypothesis as a null hypothesis and alternate hypothesis."
      ],
      "metadata": {
        "id": "tEA2Xm5dHt1r"
      }
    },
    {
      "cell_type": "markdown",
      "source": [
        "Answer Here."
      ],
      "metadata": {
        "id": "HI9ZP0laH0D-"
      }
    },
    {
      "cell_type": "markdown",
      "source": [
        "#### 2. Perform an appropriate statistical test."
      ],
      "metadata": {
        "id": "I79__PHVH19G"
      }
    },
    {
      "cell_type": "code",
      "source": [
        "# Perform Statistical Test to obtain P-Value"
      ],
      "metadata": {
        "id": "oZrfquKtyian"
      },
      "execution_count": null,
      "outputs": []
    },
    {
      "cell_type": "markdown",
      "source": [
        "##### Which statistical test have you done to obtain P-Value?"
      ],
      "metadata": {
        "id": "Ou-I18pAyIpj"
      }
    },
    {
      "cell_type": "markdown",
      "source": [
        "Answer Here."
      ],
      "metadata": {
        "id": "s2U0kk00ygSB"
      }
    },
    {
      "cell_type": "markdown",
      "source": [
        "##### Why did you choose the specific statistical test?"
      ],
      "metadata": {
        "id": "fF3858GYyt-u"
      }
    },
    {
      "cell_type": "markdown",
      "source": [
        "Answer Here."
      ],
      "metadata": {
        "id": "HO4K0gP5y3B4"
      }
    },
    {
      "cell_type": "markdown",
      "source": [
        "### Hypothetical Statement - 2"
      ],
      "metadata": {
        "id": "4_0_7-oCpUZd"
      }
    },
    {
      "cell_type": "markdown",
      "source": [
        "#### 1. State Your research hypothesis as a null hypothesis and alternate hypothesis."
      ],
      "metadata": {
        "id": "hwyV_J3ipUZe"
      }
    },
    {
      "cell_type": "markdown",
      "source": [
        "Answer Here."
      ],
      "metadata": {
        "id": "FnpLGJ-4pUZe"
      }
    },
    {
      "cell_type": "markdown",
      "source": [
        "#### 2. Perform an appropriate statistical test."
      ],
      "metadata": {
        "id": "3yB-zSqbpUZe"
      }
    },
    {
      "cell_type": "code",
      "source": [
        "# Perform Statistical Test to obtain P-Value"
      ],
      "metadata": {
        "id": "sWxdNTXNpUZe"
      },
      "execution_count": null,
      "outputs": []
    },
    {
      "cell_type": "markdown",
      "source": [
        "##### Which statistical test have you done to obtain P-Value?"
      ],
      "metadata": {
        "id": "dEUvejAfpUZe"
      }
    },
    {
      "cell_type": "markdown",
      "source": [
        "Answer Here."
      ],
      "metadata": {
        "id": "oLDrPz7HpUZf"
      }
    },
    {
      "cell_type": "markdown",
      "source": [
        "##### Why did you choose the specific statistical test?"
      ],
      "metadata": {
        "id": "Fd15vwWVpUZf"
      }
    },
    {
      "cell_type": "markdown",
      "source": [
        "Answer Here."
      ],
      "metadata": {
        "id": "4xOGYyiBpUZf"
      }
    },
    {
      "cell_type": "markdown",
      "source": [
        "### Hypothetical Statement - 3"
      ],
      "metadata": {
        "id": "bn_IUdTipZyH"
      }
    },
    {
      "cell_type": "markdown",
      "source": [
        "#### 1. State Your research hypothesis as a null hypothesis and alternate hypothesis."
      ],
      "metadata": {
        "id": "49K5P_iCpZyH"
      }
    },
    {
      "cell_type": "markdown",
      "source": [
        "Answer Here."
      ],
      "metadata": {
        "id": "7gWI5rT9pZyH"
      }
    },
    {
      "cell_type": "markdown",
      "source": [
        "#### 2. Perform an appropriate statistical test."
      ],
      "metadata": {
        "id": "Nff-vKELpZyI"
      }
    },
    {
      "cell_type": "code",
      "source": [
        "# Perform Statistical Test to obtain P-Value"
      ],
      "metadata": {
        "id": "s6AnJQjtpZyI"
      },
      "execution_count": null,
      "outputs": []
    },
    {
      "cell_type": "markdown",
      "source": [
        "##### Which statistical test have you done to obtain P-Value?"
      ],
      "metadata": {
        "id": "kLW572S8pZyI"
      }
    },
    {
      "cell_type": "markdown",
      "source": [
        "Answer Here."
      ],
      "metadata": {
        "id": "ytWJ8v15pZyI"
      }
    },
    {
      "cell_type": "markdown",
      "source": [
        "##### Why did you choose the specific statistical test?"
      ],
      "metadata": {
        "id": "dWbDXHzopZyI"
      }
    },
    {
      "cell_type": "markdown",
      "source": [
        "Answer Here."
      ],
      "metadata": {
        "id": "M99G98V6pZyI"
      }
    },
    {
      "cell_type": "markdown",
      "source": [
        "## ***6. Feature Engineering & Data Pre-processing***"
      ],
      "metadata": {
        "id": "yLjJCtPM0KBk"
      }
    },
    {
      "cell_type": "markdown",
      "source": [
        "### 1. Handling Missing Values"
      ],
      "metadata": {
        "id": "xiyOF9F70UgQ"
      }
    },
    {
      "cell_type": "code",
      "source": [
        "# Handling Missing Values & Missing Value Imputation"
      ],
      "metadata": {
        "id": "iRsAHk1K0fpS"
      },
      "execution_count": null,
      "outputs": []
    },
    {
      "cell_type": "markdown",
      "source": [
        "#### What all missing value imputation techniques have you used and why did you use those techniques?"
      ],
      "metadata": {
        "id": "7wuGOrhz0itI"
      }
    },
    {
      "cell_type": "markdown",
      "source": [
        "Answer Here."
      ],
      "metadata": {
        "id": "1ixusLtI0pqI"
      }
    },
    {
      "cell_type": "markdown",
      "source": [
        "### 2. Handling Outliers"
      ],
      "metadata": {
        "id": "id1riN9m0vUs"
      }
    },
    {
      "cell_type": "code",
      "source": [
        "# Handling Outliers & Outlier treatments"
      ],
      "metadata": {
        "id": "M6w2CzZf04JK"
      },
      "execution_count": null,
      "outputs": []
    },
    {
      "cell_type": "markdown",
      "source": [
        "##### What all outlier treatment techniques have you used and why did you use those techniques?"
      ],
      "metadata": {
        "id": "578E2V7j08f6"
      }
    },
    {
      "cell_type": "markdown",
      "source": [
        "Answer Here."
      ],
      "metadata": {
        "id": "uGZz5OrT1HH-"
      }
    },
    {
      "cell_type": "markdown",
      "source": [
        "### 3. Categorical Encoding"
      ],
      "metadata": {
        "id": "89xtkJwZ18nB"
      }
    },
    {
      "cell_type": "code",
      "source": [
        "# Encode your categorical columns"
      ],
      "metadata": {
        "id": "21JmIYMG2hEo"
      },
      "execution_count": null,
      "outputs": []
    },
    {
      "cell_type": "markdown",
      "source": [
        "#### What all categorical encoding techniques have you used & why did you use those techniques?"
      ],
      "metadata": {
        "id": "67NQN5KX2AMe"
      }
    },
    {
      "cell_type": "markdown",
      "source": [
        "Answer Here."
      ],
      "metadata": {
        "id": "UDaue5h32n_G"
      }
    },
    {
      "cell_type": "markdown",
      "source": [
        "### 4. Textual Data Preprocessing\n",
        "(It's mandatory for textual dataset i.e., NLP, Sentiment Analysis, Text Clustering etc.)"
      ],
      "metadata": {
        "id": "Iwf50b-R2tYG"
      }
    },
    {
      "cell_type": "markdown",
      "source": [
        "#### 1. Expand Contraction"
      ],
      "metadata": {
        "id": "GMQiZwjn3iu7"
      }
    },
    {
      "cell_type": "code",
      "source": [
        "# Expand Contraction"
      ],
      "metadata": {
        "id": "PTouz10C3oNN"
      },
      "execution_count": null,
      "outputs": []
    },
    {
      "cell_type": "markdown",
      "source": [
        "#### 2. Lower Casing"
      ],
      "metadata": {
        "id": "WVIkgGqN3qsr"
      }
    },
    {
      "cell_type": "code",
      "source": [
        "# Lower Casing"
      ],
      "metadata": {
        "id": "88JnJ1jN3w7j"
      },
      "execution_count": null,
      "outputs": []
    },
    {
      "cell_type": "markdown",
      "source": [
        "#### 3. Removing Punctuations"
      ],
      "metadata": {
        "id": "XkPnILGE3zoT"
      }
    },
    {
      "cell_type": "code",
      "source": [
        "# Remove Punctuations"
      ],
      "metadata": {
        "id": "vqbBqNaA33c0"
      },
      "execution_count": null,
      "outputs": []
    },
    {
      "cell_type": "markdown",
      "source": [
        "#### 4. Removing URLs & Removing words and digits contain digits."
      ],
      "metadata": {
        "id": "Hlsf0x5436Go"
      }
    },
    {
      "cell_type": "code",
      "source": [
        "# Remove URLs & Remove words and digits contain digits"
      ],
      "metadata": {
        "id": "2sxKgKxu4Ip3"
      },
      "execution_count": null,
      "outputs": []
    },
    {
      "cell_type": "markdown",
      "source": [
        "#### 5. Removing Stopwords & Removing White spaces"
      ],
      "metadata": {
        "id": "mT9DMSJo4nBL"
      }
    },
    {
      "cell_type": "code",
      "source": [
        "# Remove Stopwords"
      ],
      "metadata": {
        "id": "T2LSJh154s8W"
      },
      "execution_count": null,
      "outputs": []
    },
    {
      "cell_type": "code",
      "source": [
        "# Remove White spaces"
      ],
      "metadata": {
        "id": "EgLJGffy4vm0"
      },
      "execution_count": null,
      "outputs": []
    },
    {
      "cell_type": "markdown",
      "source": [
        "#### 6. Rephrase Text"
      ],
      "metadata": {
        "id": "c49ITxTc407N"
      }
    },
    {
      "cell_type": "code",
      "source": [
        "# Rephrase Text"
      ],
      "metadata": {
        "id": "foqY80Qu48N2"
      },
      "execution_count": null,
      "outputs": []
    },
    {
      "cell_type": "markdown",
      "source": [
        "#### 7. Tokenization"
      ],
      "metadata": {
        "id": "OeJFEK0N496M"
      }
    },
    {
      "cell_type": "code",
      "source": [
        "# Tokenization"
      ],
      "metadata": {
        "id": "ijx1rUOS5CUU"
      },
      "execution_count": null,
      "outputs": []
    },
    {
      "cell_type": "markdown",
      "source": [
        "#### 8. Text Normalization"
      ],
      "metadata": {
        "id": "9ExmJH0g5HBk"
      }
    },
    {
      "cell_type": "code",
      "source": [
        "# Normalizing Text (i.e., Stemming, Lemmatization etc.)"
      ],
      "metadata": {
        "id": "AIJ1a-Zc5PY8"
      },
      "execution_count": null,
      "outputs": []
    },
    {
      "cell_type": "markdown",
      "source": [
        "##### Which text normalization technique have you used and why?"
      ],
      "metadata": {
        "id": "cJNqERVU536h"
      }
    },
    {
      "cell_type": "markdown",
      "source": [
        "Answer Here."
      ],
      "metadata": {
        "id": "Z9jKVxE06BC1"
      }
    },
    {
      "cell_type": "markdown",
      "source": [
        "#### 9. Part of speech tagging"
      ],
      "metadata": {
        "id": "k5UmGsbsOxih"
      }
    },
    {
      "cell_type": "code",
      "source": [
        "# POS Taging"
      ],
      "metadata": {
        "id": "btT3ZJBAO6Ik"
      },
      "execution_count": null,
      "outputs": []
    },
    {
      "cell_type": "markdown",
      "source": [
        "#### 10. Text Vectorization"
      ],
      "metadata": {
        "id": "T0VqWOYE6DLQ"
      }
    },
    {
      "cell_type": "code",
      "source": [
        "# Vectorizing Text"
      ],
      "metadata": {
        "id": "yBRtdhth6JDE"
      },
      "execution_count": null,
      "outputs": []
    },
    {
      "cell_type": "markdown",
      "source": [
        "##### Which text vectorization technique have you used and why?"
      ],
      "metadata": {
        "id": "qBMux9mC6MCf"
      }
    },
    {
      "cell_type": "markdown",
      "source": [
        "Answer Here."
      ],
      "metadata": {
        "id": "su2EnbCh6UKQ"
      }
    },
    {
      "cell_type": "markdown",
      "source": [
        "### 4. Feature Manipulation & Selection"
      ],
      "metadata": {
        "id": "-oLEiFgy-5Pf"
      }
    },
    {
      "cell_type": "markdown",
      "source": [
        "#### 1. Feature Manipulation"
      ],
      "metadata": {
        "id": "C74aWNz2AliB"
      }
    },
    {
      "cell_type": "code",
      "source": [
        "# Manipulate Features to minimize feature correlation and create new features"
      ],
      "metadata": {
        "id": "h1qC4yhBApWC"
      },
      "execution_count": null,
      "outputs": []
    },
    {
      "cell_type": "markdown",
      "source": [
        "#### 2. Feature Selection"
      ],
      "metadata": {
        "id": "2DejudWSA-a0"
      }
    },
    {
      "cell_type": "code",
      "source": [
        "# Select your features wisely to avoid overfitting"
      ],
      "metadata": {
        "id": "YLhe8UmaBCEE"
      },
      "execution_count": null,
      "outputs": []
    },
    {
      "cell_type": "markdown",
      "source": [
        "##### What all feature selection methods have you used  and why?"
      ],
      "metadata": {
        "id": "pEMng2IbBLp7"
      }
    },
    {
      "cell_type": "markdown",
      "source": [
        "Answer Here."
      ],
      "metadata": {
        "id": "rb2Lh6Z8BgGs"
      }
    },
    {
      "cell_type": "markdown",
      "source": [
        "##### Which all features you found important and why?"
      ],
      "metadata": {
        "id": "rAdphbQ9Bhjc"
      }
    },
    {
      "cell_type": "markdown",
      "source": [
        "Answer Here."
      ],
      "metadata": {
        "id": "fGgaEstsBnaf"
      }
    },
    {
      "cell_type": "markdown",
      "source": [
        "### 5. Data Transformation"
      ],
      "metadata": {
        "id": "TNVZ9zx19K6k"
      }
    },
    {
      "cell_type": "markdown",
      "source": [
        "#### Do you think that your data needs to be transformed? If yes, which transformation have you used. Explain Why?"
      ],
      "metadata": {
        "id": "nqoHp30x9hH9"
      }
    },
    {
      "cell_type": "code",
      "source": [
        "# Transform Your data"
      ],
      "metadata": {
        "id": "I6quWQ1T9rtH"
      },
      "execution_count": null,
      "outputs": []
    },
    {
      "cell_type": "markdown",
      "source": [
        "### 6. Data Scaling"
      ],
      "metadata": {
        "id": "rMDnDkt2B6du"
      }
    },
    {
      "cell_type": "code",
      "source": [
        "# Scaling your data"
      ],
      "metadata": {
        "id": "dL9LWpySC6x_"
      },
      "execution_count": null,
      "outputs": []
    },
    {
      "cell_type": "markdown",
      "source": [
        "##### Which method have you used to scale you data and why?"
      ],
      "metadata": {
        "id": "yiiVWRdJDDil"
      }
    },
    {
      "cell_type": "markdown",
      "source": [
        "### 7. Dimesionality Reduction"
      ],
      "metadata": {
        "id": "1UUpS68QDMuG"
      }
    },
    {
      "cell_type": "markdown",
      "source": [
        "##### Do you think that dimensionality reduction is needed? Explain Why?"
      ],
      "metadata": {
        "id": "kexQrXU-DjzY"
      }
    },
    {
      "cell_type": "markdown",
      "source": [
        "Answer Here."
      ],
      "metadata": {
        "id": "GGRlBsSGDtTQ"
      }
    },
    {
      "cell_type": "code",
      "source": [
        "# DImensionality Reduction (If needed)"
      ],
      "metadata": {
        "id": "kQfvxBBHDvCa"
      },
      "execution_count": null,
      "outputs": []
    },
    {
      "cell_type": "markdown",
      "source": [
        "##### Which dimensionality reduction technique have you used and why? (If dimensionality reduction done on dataset.)"
      ],
      "metadata": {
        "id": "T5CmagL3EC8N"
      }
    },
    {
      "cell_type": "markdown",
      "source": [
        "Answer Here."
      ],
      "metadata": {
        "id": "ZKr75IDuEM7t"
      }
    },
    {
      "cell_type": "markdown",
      "source": [
        "### 8. Data Splitting"
      ],
      "metadata": {
        "id": "BhH2vgX9EjGr"
      }
    },
    {
      "cell_type": "code",
      "source": [
        "# Split your data to train and test. Choose Splitting ratio wisely."
      ],
      "metadata": {
        "id": "0CTyd2UwEyNM"
      },
      "execution_count": null,
      "outputs": []
    },
    {
      "cell_type": "markdown",
      "source": [
        "##### What data splitting ratio have you used and why?"
      ],
      "metadata": {
        "id": "qjKvONjwE8ra"
      }
    },
    {
      "cell_type": "markdown",
      "source": [
        "Answer Here."
      ],
      "metadata": {
        "id": "Y2lJ8cobFDb_"
      }
    },
    {
      "cell_type": "markdown",
      "source": [
        "### 9. Handling Imbalanced Dataset"
      ],
      "metadata": {
        "id": "P1XJ9OREExlT"
      }
    },
    {
      "cell_type": "markdown",
      "source": [
        "##### Do you think the dataset is imbalanced? Explain Why."
      ],
      "metadata": {
        "id": "VFOzZv6IFROw"
      }
    },
    {
      "cell_type": "markdown",
      "source": [
        "Answer Here."
      ],
      "metadata": {
        "id": "GeKDIv7pFgcC"
      }
    },
    {
      "cell_type": "code",
      "source": [
        "# Handling Imbalanced Dataset (If needed)"
      ],
      "metadata": {
        "id": "nQsRhhZLFiDs"
      },
      "execution_count": null,
      "outputs": []
    },
    {
      "cell_type": "markdown",
      "source": [
        "##### What technique did you use to handle the imbalance dataset and why? (If needed to be balanced)"
      ],
      "metadata": {
        "id": "TIqpNgepFxVj"
      }
    },
    {
      "cell_type": "markdown",
      "source": [
        "Answer Here."
      ],
      "metadata": {
        "id": "qbet1HwdGDTz"
      }
    },
    {
      "cell_type": "markdown",
      "source": [
        "## ***7. ML Model Implementation***"
      ],
      "metadata": {
        "id": "VfCC591jGiD4"
      }
    },
    {
      "cell_type": "markdown",
      "source": [
        "### ML Model - 1"
      ],
      "metadata": {
        "id": "OB4l2ZhMeS1U"
      }
    },
    {
      "cell_type": "code",
      "source": [
        "# ML Model - 1 Implementation\n",
        "\n",
        "# Fit the Algorithm\n",
        "\n",
        "# Predict on the model"
      ],
      "metadata": {
        "id": "7ebyywQieS1U"
      },
      "execution_count": null,
      "outputs": []
    },
    {
      "cell_type": "markdown",
      "source": [
        "#### 1. Explain the ML Model used and it's performance using Evaluation metric Score Chart."
      ],
      "metadata": {
        "id": "ArJBuiUVfxKd"
      }
    },
    {
      "cell_type": "code",
      "source": [
        "# Visualizing evaluation Metric Score chart"
      ],
      "metadata": {
        "id": "rqD5ZohzfxKe"
      },
      "execution_count": null,
      "outputs": []
    },
    {
      "cell_type": "markdown",
      "source": [
        "#### 2. Cross- Validation & Hyperparameter Tuning"
      ],
      "metadata": {
        "id": "4qY1EAkEfxKe"
      }
    },
    {
      "cell_type": "code",
      "source": [
        "# ML Model - 1 Implementation with hyperparameter optimization techniques (i.e., GridSearch CV, RandomSearch CV, Bayesian Optimization etc.)\n",
        "\n",
        "# Fit the Algorithm\n",
        "\n",
        "# Predict on the model"
      ],
      "metadata": {
        "id": "Dy61ujd6fxKe"
      },
      "execution_count": null,
      "outputs": []
    },
    {
      "cell_type": "markdown",
      "source": [
        "##### Which hyperparameter optimization technique have you used and why?"
      ],
      "metadata": {
        "id": "PiV4Ypx8fxKe"
      }
    },
    {
      "cell_type": "markdown",
      "source": [
        "Answer Here."
      ],
      "metadata": {
        "id": "negyGRa7fxKf"
      }
    },
    {
      "cell_type": "markdown",
      "source": [
        "##### Have you seen any improvement? Note down the improvement with updates Evaluation metric Score Chart."
      ],
      "metadata": {
        "id": "TfvqoZmBfxKf"
      }
    },
    {
      "cell_type": "markdown",
      "source": [
        "Answer Here."
      ],
      "metadata": {
        "id": "OaLui8CcfxKf"
      }
    },
    {
      "cell_type": "markdown",
      "source": [
        "### ML Model - 2"
      ],
      "metadata": {
        "id": "dJ2tPlVmpsJ0"
      }
    },
    {
      "cell_type": "markdown",
      "source": [
        "#### 1. Explain the ML Model used and it's performance using Evaluation metric Score Chart."
      ],
      "metadata": {
        "id": "JWYfwnehpsJ1"
      }
    },
    {
      "cell_type": "code",
      "source": [
        "# Visualizing evaluation Metric Score chart"
      ],
      "metadata": {
        "id": "yEl-hgQWpsJ1"
      },
      "execution_count": null,
      "outputs": []
    },
    {
      "cell_type": "markdown",
      "source": [
        "#### 2. Cross- Validation & Hyperparameter Tuning"
      ],
      "metadata": {
        "id": "-jK_YjpMpsJ2"
      }
    },
    {
      "cell_type": "code",
      "source": [
        "# ML Model - 1 Implementation with hyperparameter optimization techniques (i.e., GridSearch CV, RandomSearch CV, Bayesian Optimization etc.)\n",
        "\n",
        "# Fit the Algorithm\n",
        "\n",
        "# Predict on the model"
      ],
      "metadata": {
        "id": "Dn0EOfS6psJ2"
      },
      "execution_count": null,
      "outputs": []
    },
    {
      "cell_type": "markdown",
      "source": [
        "##### Which hyperparameter optimization technique have you used and why?"
      ],
      "metadata": {
        "id": "HAih1iBOpsJ2"
      }
    },
    {
      "cell_type": "markdown",
      "source": [
        "Answer Here."
      ],
      "metadata": {
        "id": "9kBgjYcdpsJ2"
      }
    },
    {
      "cell_type": "markdown",
      "source": [
        "##### Have you seen any improvement? Note down the improvement with updates Evaluation metric Score Chart."
      ],
      "metadata": {
        "id": "zVGeBEFhpsJ2"
      }
    },
    {
      "cell_type": "markdown",
      "source": [
        "Answer Here."
      ],
      "metadata": {
        "id": "74yRdG6UpsJ3"
      }
    },
    {
      "cell_type": "markdown",
      "source": [
        "#### 3. Explain each evaluation metric's indication towards business and the business impact pf the ML model used."
      ],
      "metadata": {
        "id": "bmKjuQ-FpsJ3"
      }
    },
    {
      "cell_type": "markdown",
      "source": [
        "Answer Here."
      ],
      "metadata": {
        "id": "BDKtOrBQpsJ3"
      }
    },
    {
      "cell_type": "markdown",
      "source": [
        "### ML Model - 3"
      ],
      "metadata": {
        "id": "Fze-IPXLpx6K"
      }
    },
    {
      "cell_type": "code",
      "source": [
        "# ML Model - 3 Implementation\n",
        "\n",
        "# Fit the Algorithm\n",
        "\n",
        "# Predict on the model"
      ],
      "metadata": {
        "id": "FFrSXAtrpx6M"
      },
      "execution_count": null,
      "outputs": []
    },
    {
      "cell_type": "markdown",
      "source": [
        "#### 1. Explain the ML Model used and it's performance using Evaluation metric Score Chart."
      ],
      "metadata": {
        "id": "7AN1z2sKpx6M"
      }
    },
    {
      "cell_type": "code",
      "source": [
        "# Visualizing evaluation Metric Score chart"
      ],
      "metadata": {
        "id": "xIY4lxxGpx6M"
      },
      "execution_count": null,
      "outputs": []
    },
    {
      "cell_type": "markdown",
      "source": [
        "#### 2. Cross- Validation & Hyperparameter Tuning"
      ],
      "metadata": {
        "id": "9PIHJqyupx6M"
      }
    },
    {
      "cell_type": "code",
      "source": [
        "# ML Model - 3 Implementation with hyperparameter optimization techniques (i.e., GridSearch CV, RandomSearch CV, Bayesian Optimization etc.)\n",
        "\n",
        "# Fit the Algorithm\n",
        "\n",
        "# Predict on the model"
      ],
      "metadata": {
        "id": "eSVXuaSKpx6M"
      },
      "execution_count": null,
      "outputs": []
    },
    {
      "cell_type": "markdown",
      "source": [
        "##### Which hyperparameter optimization technique have you used and why?"
      ],
      "metadata": {
        "id": "_-qAgymDpx6N"
      }
    },
    {
      "cell_type": "markdown",
      "source": [
        "Answer Here."
      ],
      "metadata": {
        "id": "lQMffxkwpx6N"
      }
    },
    {
      "cell_type": "markdown",
      "source": [
        "##### Have you seen any improvement? Note down the improvement with updates Evaluation metric Score Chart."
      ],
      "metadata": {
        "id": "Z-hykwinpx6N"
      }
    },
    {
      "cell_type": "markdown",
      "source": [
        "Answer Here."
      ],
      "metadata": {
        "id": "MzVzZC6opx6N"
      }
    },
    {
      "cell_type": "markdown",
      "source": [
        "### 1. Which Evaluation metrics did you consider for a positive business impact and why?"
      ],
      "metadata": {
        "id": "h_CCil-SKHpo"
      }
    },
    {
      "cell_type": "markdown",
      "source": [
        "Answer Here."
      ],
      "metadata": {
        "id": "jHVz9hHDKFms"
      }
    },
    {
      "cell_type": "markdown",
      "source": [
        "### 2. Which ML model did you choose from the above created models as your final prediction model and why?"
      ],
      "metadata": {
        "id": "cBFFvTBNJzUa"
      }
    },
    {
      "cell_type": "markdown",
      "source": [
        "Answer Here."
      ],
      "metadata": {
        "id": "6ksF5Q1LKTVm"
      }
    },
    {
      "cell_type": "markdown",
      "source": [
        "### 3. Explain the model which you have used and the feature importance using any model explainability tool?"
      ],
      "metadata": {
        "id": "HvGl1hHyA_VK"
      }
    },
    {
      "cell_type": "markdown",
      "source": [
        "Answer Here."
      ],
      "metadata": {
        "id": "YnvVTiIxBL-C"
      }
    },
    {
      "cell_type": "markdown",
      "source": [
        "## ***8.*** ***Future Work (Optional)***"
      ],
      "metadata": {
        "id": "EyNgTHvd2WFk"
      }
    },
    {
      "cell_type": "markdown",
      "source": [
        "### 1. Save the best performing ml model in a pickle file or joblib file format for deployment process.\n"
      ],
      "metadata": {
        "id": "KH5McJBi2d8v"
      }
    },
    {
      "cell_type": "code",
      "source": [
        "# Save the File"
      ],
      "metadata": {
        "id": "bQIANRl32f4J"
      },
      "execution_count": null,
      "outputs": []
    },
    {
      "cell_type": "markdown",
      "source": [
        "### 2. Again Load the saved model file and try to predict unseen data for a sanity check.\n"
      ],
      "metadata": {
        "id": "iW_Lq9qf2h6X"
      }
    },
    {
      "cell_type": "code",
      "source": [
        "# Load the File and predict unseen data."
      ],
      "metadata": {
        "id": "oEXk9ydD2nVC"
      },
      "execution_count": null,
      "outputs": []
    },
    {
      "cell_type": "markdown",
      "source": [
        "### ***Congrats! Your model is successfully created and ready for deployment on a live server for a real user interaction !!!***"
      ],
      "metadata": {
        "id": "-Kee-DAl2viO"
      }
    },
    {
      "cell_type": "markdown",
      "source": [
        "# **Conclusion**"
      ],
      "metadata": {
        "id": "gCX9965dhzqZ"
      }
    },
    {
      "cell_type": "markdown",
      "source": [
        "Write the conclusion here."
      ],
      "metadata": {
        "id": "Fjb1IsQkh3yE"
      }
    },
    {
      "cell_type": "markdown",
      "source": [
        "### ***Hurrah! You have successfully completed your Machine Learning Capstone Project !!!***"
      ],
      "metadata": {
        "id": "gIfDvo9L0UH2"
      }
    }
  ]
}